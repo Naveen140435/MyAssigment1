{
 "cells": [
  {
   "cell_type": "markdown",
   "id": "e8722b2f",
   "metadata": {},
   "source": [
    "# Question 1\n",
    "\n",
    "1. In the below elements which of them are values or an expression? eg:- values can be\n",
    "integer or string and expressions will be mathematical operators.\n",
    "\n",
    "\n",
    "*,+,/,- are the expressions because they are the mathematical operators.\n",
    "\n",
    "'hello',-87.8,6 are the integers."
   ]
  },
  {
   "cell_type": "markdown",
   "id": "3c310fa9",
   "metadata": {},
   "source": [
    "# Question 2\n",
    "\n",
    "2. What is the difference between string and variable?\n",
    "\n",
    "string is a text which represents value\n",
    "variable is name that stores the data.\n"
   ]
  },
  {
   "cell_type": "markdown",
   "id": "49c005b9",
   "metadata": {},
   "source": [
    "# Question 3\n",
    "3.Describe three different data types.\n",
    "\n",
    "The different types of data types are String, Integer, Boolean etc,."
   ]
  },
  {
   "cell_type": "markdown",
   "id": "74c37bbf",
   "metadata": {},
   "source": [
    "# Question 4\n",
    "4. What is an expression made up of? What do all expressions do?\n",
    "\n",
    "expression is made up of one or more operators that represents a value.We can do some mathematical or logical operations by using the expressions."
   ]
  },
  {
   "cell_type": "markdown",
   "id": "86924a05",
   "metadata": {},
   "source": [
    "# Question 5\n",
    "5. This assignment statements, like spam = 10. What is the difference between an\n",
    "expression and a statement?\n",
    "\n",
    "expression is a part of statement while it contains only mathematical or arithmatic operations, and statment is something which is complete line of a code."
   ]
  },
  {
   "cell_type": "markdown",
   "id": "2da66175",
   "metadata": {},
   "source": [
    "# Question 6\n",
    "6. After running the following code, what does the variable bacon contain?\n",
    "bacon = 22\n",
    "bacon + 1\n",
    "\n",
    "The value of the bacon will be incremented in next iteration\n",
    "\n"
   ]
  },
  {
   "cell_type": "code",
   "execution_count": 1,
   "id": "7d39020b",
   "metadata": {},
   "outputs": [
    {
     "data": {
      "text/plain": [
       "23"
      ]
     },
     "execution_count": 1,
     "metadata": {},
     "output_type": "execute_result"
    }
   ],
   "source": [
    "bacon =22\n",
    "bacon+1"
   ]
  },
  {
   "cell_type": "markdown",
   "id": "987ec175",
   "metadata": {},
   "source": [
    "# Question 7\n",
    "\n",
    "7. What should the values of the following two terms be?\n",
    "'spam'+'spamspam'\n",
    "'spam'*3\n",
    "\n",
    "The output should be same for the both the statements that is 'spamspamspam'\n",
    "\n"
   ]
  },
  {
   "cell_type": "code",
   "execution_count": 2,
   "id": "ae49fa88",
   "metadata": {},
   "outputs": [
    {
     "data": {
      "text/plain": [
       "'spamspamspam'"
      ]
     },
     "execution_count": 2,
     "metadata": {},
     "output_type": "execute_result"
    }
   ],
   "source": [
    "'spam'+'spamspam'"
   ]
  },
  {
   "cell_type": "code",
   "execution_count": 3,
   "id": "c7c43068",
   "metadata": {},
   "outputs": [
    {
     "data": {
      "text/plain": [
       "'spamspamspam'"
      ]
     },
     "execution_count": 3,
     "metadata": {},
     "output_type": "execute_result"
    }
   ],
   "source": [
    "'spam'*3"
   ]
  },
  {
   "cell_type": "markdown",
   "id": "c80d52c1",
   "metadata": {},
   "source": [
    "# Question 8\n",
    "8. Why is eggs a valid variable name while 100 is invalid?\n",
    "\n",
    "The variable values should not be start with the integer values it can be start with string values."
   ]
  },
  {
   "cell_type": "markdown",
   "id": "a2f056d8",
   "metadata": {},
   "source": [
    "# Question 9\n",
    "9. What three functions can be used to get the integer, floating-point number, or string\n",
    "version of a value?\n",
    "\n",
    "int for integer, float for float-pointing numbers and str for the string values"
   ]
  },
  {
   "cell_type": "markdown",
   "id": "395f4105",
   "metadata": {},
   "source": [
    "# Question 10\n",
    "\n",
    "10. Why does this expression cause an error? How can you fix it?\n",
    "'I have eaten' + 99 + 'burritos.'\n",
    "\n",
    "The error is you cannot add the string values with the integer numbers.\n",
    "We can fix this error by converting that integer value to the string but placing between quotes. like '99'"
   ]
  },
  {
   "cell_type": "code",
   "execution_count": 6,
   "id": "85b2cb5f",
   "metadata": {},
   "outputs": [
    {
     "data": {
      "text/plain": [
       "'I have eaten99burritos.'"
      ]
     },
     "execution_count": 6,
     "metadata": {},
     "output_type": "execute_result"
    }
   ],
   "source": [
    "'I have eaten'+ '99' + 'burritos.'"
   ]
  },
  {
   "cell_type": "code",
   "execution_count": null,
   "id": "e88cd265",
   "metadata": {},
   "outputs": [],
   "source": []
  }
 ],
 "metadata": {
  "kernelspec": {
   "display_name": "Python 3 (ipykernel)",
   "language": "python",
   "name": "python3"
  },
  "language_info": {
   "codemirror_mode": {
    "name": "ipython",
    "version": 3
   },
   "file_extension": ".py",
   "mimetype": "text/x-python",
   "name": "python",
   "nbconvert_exporter": "python",
   "pygments_lexer": "ipython3",
   "version": "3.9.7"
  }
 },
 "nbformat": 4,
 "nbformat_minor": 5
}
